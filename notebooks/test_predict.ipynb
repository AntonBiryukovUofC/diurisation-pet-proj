{
 "cells": [
  {
   "cell_type": "code",
   "execution_count": null,
   "metadata": {},
   "outputs": [],
   "source": [
    "! ffmpeg -i ../data/raw/Home.m4a ../data/raw/Brian.wav"
   ]
  },
  {
   "cell_type": "code",
   "execution_count": 21,
   "metadata": {},
   "outputs": [],
   "source": [
    "import pandas as pd\n",
    "import os\n",
    "import sys\n",
    "import argparse\n",
    "import pandas as pd\n",
    "sys.path.insert(0,'D://Repos/diurisation-pet-proj/')\n",
    "# gpu configuration\n",
    "import matplotlib.pyplot as plt\n",
    "import src.vggvoxvlad.model as model\n",
    "import src.tool.toolkits as toolkits\n",
    "import src.vggvoxvlad.utils as ut\n",
    "import numpy as np\n",
    "\n",
    "vc_df = pd.read_csv('../data/raw/vox1_meta.txt',sep = '\\t',skiprows=0)\n",
    "\n",
    "params = {'dim': (257, None, 1),\n",
    "              'nfft': 512,\n",
    "              'spec_len': 250,\n",
    "              'win_length': 400,\n",
    "              'hop_length': 160,\n",
    "              'n_classes': 1251,\n",
    "              'sampling_rate': 16000,\n",
    "              'normalize': True,\n",
    "              }\n",
    "args=[]\n",
    "\n",
    "parser = argparse.ArgumentParser()\n",
    "# set up training configuration.\n",
    "parser.add_argument('--gpu', default='', type=str)\n",
    "parser.add_argument('--resume', default=r'pretrained/weights.h5', type=str)\n",
    "parser.add_argument('--data_path', default='4persons', type=str)\n",
    "# set up network configuration.\n",
    "parser.add_argument('--net', default='resnet34s', choices=['resnet34s', 'resnet34l'], type=str)\n",
    "parser.add_argument('--ghost_cluster', default=2, type=int)\n",
    "parser.add_argument('--vlad_cluster', default=8, type=int)\n",
    "parser.add_argument('--bottleneck_dim', default=512, type=int)\n",
    "parser.add_argument('--aggregation_mode', default='gvlad', choices=['avg', 'vlad', 'gvlad'], type=str)\n",
    "# set up learning rate, training loss and optimizer.\n",
    "parser.add_argument('--loss', default='softmax', choices=['softmax', 'amsoftmax'], type=str)\n",
    "parser.add_argument('--test_type', default='normal', choices=['normal', 'hard', 'extend'], type=str)\n",
    "\n",
    "args = parser.parse_args(args=[])\n",
    "toolkits.initialize_GPU(args)\n",
    "\n",
    "network_eval = model.vggvox_resnet2d_icassp(input_dim=params['dim'],\n",
    "                                                num_class=params['n_classes'],\n",
    "                                                mode='eval', args=args)\n",
    "network_eval.load_weights('../models/vggvox/weights-09-0.923.h5', by_name=True)\n"
   ]
  },
  {
   "cell_type": "code",
   "execution_count": 23,
   "metadata": {},
   "outputs": [],
   "source": [
    "vc_df['class'] = pd.to_numeric(vc_df['VoxCeleb1 ID'].str.replace('id','')) - 10001"
   ]
  },
  {
   "cell_type": "code",
   "execution_count": 47,
   "metadata": {},
   "outputs": [
    {
     "name": "stdout",
     "output_type": "stream",
     "text": [
      "[[804 251 971 ... 549 204 364]]\n",
      "      VoxCeleb1 ID            VGGFace1 ID Gender Nationality  Set\n",
      "class                                                            \n",
      "804        id10805        Michael_Cudlitz      m         USA  dev\n",
      "251        id10252            Donna_Mills      f         USA  dev\n",
      "971        id10972  Richard_Dean_Anderson      m         USA  dev\n",
      "752        id10753            Mark_Harmon      m         USA  dev\n",
      "640        id10641            Kevin_Bacon      m         USA  dev\n"
     ]
    },
    {
     "data": {
      "image/png": "[encoded data removed]",
      "text/plain": [
       "<Figure size 432x288 with 1 Axes>"
      ]
     },
     "metadata": {
      "needs_background": "light"
     },
     "output_type": "display_data"
    }
   ],
   "source": [
    "ID  = r'../data/raw/volo.wav'\n",
    "specs = ut.load_data(ID, win_length=params['win_length'], sr=params['sampling_rate'],\n",
    "                         hop_length=params['hop_length'], n_fft=params['nfft'],\n",
    "                         spec_len=params['spec_len'], mode='eval')\n",
    "specs = np.expand_dims(np.expand_dims(specs, 0), -1)\n",
    "\n",
    "v = network_eval.predict(specs)\n",
    "plt.plot(v[0,:]);\n",
    "classes = (-v).argsort()\n",
    "print(classes)\n",
    "vc_topn = vc_df.set_index('class').loc[classes[0,:n]]\n",
    "print(vc_topn)"
   ]
  },
  {
   "cell_type": "code",
   "execution_count": null,
   "metadata": {},
   "outputs": [],
   "source": []
  },
  {
   "cell_type": "code",
   "execution_count": 37,
   "metadata": {},
   "outputs": [
    {
     "data": {
      "text/plain": [
       "array([[1116,  934,  402, ...,  784,  403,  888]], dtype=int64)"
      ]
     },
     "execution_count": 37,
     "metadata": {},
     "output_type": "execute_result"
    },
    {
     "data": {
      "image/png": "[encoded data removed]",
      "text/plain": [
       "<Figure size 432x288 with 1 Axes>"
      ]
     },
     "metadata": {
      "needs_background": "light"
     },
     "output_type": "display_data"
    }
   ],
   "source": []
  },
  {
   "cell_type": "code",
   "execution_count": 38,
   "metadata": {},
   "outputs": [
    {
     "data": {
      "text/html": [
       "<div>\n",
       "<style scoped>\n",
       "    .dataframe tbody tr th:only-of-type {\n",
       "        vertical-align: middle;\n",
       "    }\n",
       "\n",
       "    .dataframe tbody tr th {\n",
       "        vertical-align: top;\n",
       "    }\n",
       "\n",
       "    .dataframe thead th {\n",
       "        text-align: right;\n",
       "    }\n",
       "</style>\n",
       "<table border=\"1\" class=\"dataframe\">\n",
       "  <thead>\n",
       "    <tr style=\"text-align: right;\">\n",
       "      <th></th>\n",
       "      <th>VoxCeleb1 ID</th>\n",
       "      <th>VGGFace1 ID</th>\n",
       "      <th>Gender</th>\n",
       "      <th>Nationality</th>\n",
       "      <th>Set</th>\n",
       "    </tr>\n",
       "    <tr>\n",
       "      <th>class</th>\n",
       "      <th></th>\n",
       "      <th></th>\n",
       "      <th></th>\n",
       "      <th></th>\n",
       "      <th></th>\n",
       "    </tr>\n",
       "  </thead>\n",
       "  <tbody>\n",
       "    <tr>\n",
       "      <th>1116</th>\n",
       "      <td>id11117</td>\n",
       "      <td>Steve_Carell</td>\n",
       "      <td>m</td>\n",
       "      <td>USA</td>\n",
       "      <td>dev</td>\n",
       "    </tr>\n",
       "    <tr>\n",
       "      <th>934</th>\n",
       "      <td>id10935</td>\n",
       "      <td>Peter_Jackson</td>\n",
       "      <td>m</td>\n",
       "      <td>New Zealand</td>\n",
       "      <td>dev</td>\n",
       "    </tr>\n",
       "    <tr>\n",
       "      <th>402</th>\n",
       "      <td>id10403</td>\n",
       "      <td>Jack_Lemmon</td>\n",
       "      <td>m</td>\n",
       "      <td>USA</td>\n",
       "      <td>dev</td>\n",
       "    </tr>\n",
       "    <tr>\n",
       "      <th>1125</th>\n",
       "      <td>id11126</td>\n",
       "      <td>Steven_Yeun</td>\n",
       "      <td>m</td>\n",
       "      <td>USA</td>\n",
       "      <td>dev</td>\n",
       "    </tr>\n",
       "    <tr>\n",
       "      <th>559</th>\n",
       "      <td>id10560</td>\n",
       "      <td>Joseph_Gordon-Levitt</td>\n",
       "      <td>m</td>\n",
       "      <td>USA</td>\n",
       "      <td>dev</td>\n",
       "    </tr>\n",
       "  </tbody>\n",
       "</table>\n",
       "</div>"
      ],
      "text/plain": [
       "      VoxCeleb1 ID           VGGFace1 ID Gender  Nationality  Set\n",
       "class                                                            \n",
       "1116       id11117          Steve_Carell      m          USA  dev\n",
       "934        id10935         Peter_Jackson      m  New Zealand  dev\n",
       "402        id10403           Jack_Lemmon      m          USA  dev\n",
       "1125       id11126           Steven_Yeun      m          USA  dev\n",
       "559        id10560  Joseph_Gordon-Levitt      m          USA  dev"
      ]
     },
     "execution_count": 38,
     "metadata": {},
     "output_type": "execute_result"
    }
   ],
   "source": []
  },
  {
   "cell_type": "code",
   "execution_count": 5,
   "metadata": {},
   "outputs": [
    {
     "ename": "NameError",
     "evalue": "name 'args' is not defined",
     "traceback": [
      "\u001b[1;31m---------------------------------------------------------------------------\u001b[0m",
      "\u001b[1;31mNameError\u001b[0m                                 Traceback (most recent call last)",
      "\u001b[1;32m<ipython-input-5-66dcfad41c76>\u001b[0m in \u001b[0;36m<module>\u001b[1;34m\u001b[0m\n\u001b[1;32m----> 1\u001b[1;33m \u001b[0margs\u001b[0m\u001b[1;33m\u001b[0m\u001b[1;33m\u001b[0m\u001b[0m\n\u001b[0m",
      "\u001b[1;31mNameError\u001b[0m: name 'args' is not defined"
     ],
     "output_type": "error"
    }
   ],
   "source": [
    "args"
   ]
  },
  {
   "cell_type": "code",
   "execution_count": null,
   "metadata": {},
   "outputs": [],
   "source": []
  }
 ],
 "metadata": {
  "kernelspec": {
   "display_name": "Python 3",
   "language": "python",
   "name": "python3"
  },
  "language_info": {
   "codemirror_mode": {
    "name": "ipython",
    "version": 3
   },
   "file_extension": ".py",
   "mimetype": "text/x-python",
   "name": "python",
   "nbconvert_exporter": "python",
   "pygments_lexer": "ipython3",
   "version": "3.6.7"
  }
 },
 "nbformat": 4,
 "nbformat_minor": 2
}
