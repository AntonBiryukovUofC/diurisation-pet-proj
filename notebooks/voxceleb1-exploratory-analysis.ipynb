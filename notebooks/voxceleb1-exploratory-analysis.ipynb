{
 "cells": [
  {
   "cell_type": "markdown",
   "metadata": {},
   "source": [
    " Run if you need to install altair "
   ]
  },
  {
   "cell_type": "code",
   "execution_count": null,
   "metadata": {},
   "outputs": [],
   "source": [
    "! conda install -c conda-forge altair vega_datasets notebook vega"
   ]
  },
  {
   "cell_type": "code",
   "execution_count": 1,
   "metadata": {},
   "outputs": [
    {
     "name": "stdout",
     "output_type": "stream",
     "text": [
      "(1251, 5)\n"
     ]
    },
    {
     "data": {
      "text/html": [
       "<div>\n",
       "<style scoped>\n",
       "    .dataframe tbody tr th:only-of-type {\n",
       "        vertical-align: middle;\n",
       "    }\n",
       "\n",
       "    .dataframe tbody tr th {\n",
       "        vertical-align: top;\n",
       "    }\n",
       "\n",
       "    .dataframe thead th {\n",
       "        text-align: right;\n",
       "    }\n",
       "</style>\n",
       "<table border=\"1\" class=\"dataframe\">\n",
       "  <thead>\n",
       "    <tr style=\"text-align: right;\">\n",
       "      <th></th>\n",
       "      <th>VoxCeleb1_ID</th>\n",
       "      <th>VGGFace1_ID</th>\n",
       "      <th>Gender</th>\n",
       "      <th>Nationality</th>\n",
       "      <th>Set</th>\n",
       "    </tr>\n",
       "  </thead>\n",
       "  <tbody>\n",
       "    <tr>\n",
       "      <th>653</th>\n",
       "      <td>id10654</td>\n",
       "      <td>Kodi_Smit-McPhee</td>\n",
       "      <td>m</td>\n",
       "      <td>Australia</td>\n",
       "      <td>dev</td>\n",
       "    </tr>\n",
       "    <tr>\n",
       "      <th>361</th>\n",
       "      <td>id10362</td>\n",
       "      <td>Harry_Connick_Jr.</td>\n",
       "      <td>m</td>\n",
       "      <td>USA</td>\n",
       "      <td>dev</td>\n",
       "    </tr>\n",
       "    <tr>\n",
       "      <th>1129</th>\n",
       "      <td>id11130</td>\n",
       "      <td>Suraj_Sharma</td>\n",
       "      <td>m</td>\n",
       "      <td>India</td>\n",
       "      <td>dev</td>\n",
       "    </tr>\n",
       "    <tr>\n",
       "      <th>966</th>\n",
       "      <td>id10967</td>\n",
       "      <td>Rene_Auberjonois</td>\n",
       "      <td>m</td>\n",
       "      <td>Switzerland</td>\n",
       "      <td>dev</td>\n",
       "    </tr>\n",
       "    <tr>\n",
       "      <th>38</th>\n",
       "      <td>id10039</td>\n",
       "      <td>Alison_Pill</td>\n",
       "      <td>f</td>\n",
       "      <td>Canada</td>\n",
       "      <td>dev</td>\n",
       "    </tr>\n",
       "    <tr>\n",
       "      <th>698</th>\n",
       "      <td>id10699</td>\n",
       "      <td>Lisa_Whelchel</td>\n",
       "      <td>f</td>\n",
       "      <td>USA</td>\n",
       "      <td>dev</td>\n",
       "    </tr>\n",
       "    <tr>\n",
       "      <th>650</th>\n",
       "      <td>id10651</td>\n",
       "      <td>Kimberly_Elise</td>\n",
       "      <td>f</td>\n",
       "      <td>USA</td>\n",
       "      <td>dev</td>\n",
       "    </tr>\n",
       "    <tr>\n",
       "      <th>102</th>\n",
       "      <td>id10103</td>\n",
       "      <td>Brenda_Blethyn</td>\n",
       "      <td>f</td>\n",
       "      <td>UK</td>\n",
       "      <td>dev</td>\n",
       "    </tr>\n",
       "    <tr>\n",
       "      <th>1150</th>\n",
       "      <td>id11151</td>\n",
       "      <td>Taylor_Kitsch</td>\n",
       "      <td>m</td>\n",
       "      <td>Canada</td>\n",
       "      <td>dev</td>\n",
       "    </tr>\n",
       "    <tr>\n",
       "      <th>482</th>\n",
       "      <td>id10483</td>\n",
       "      <td>Jeremy_Irvine</td>\n",
       "      <td>m</td>\n",
       "      <td>UK</td>\n",
       "      <td>dev</td>\n",
       "    </tr>\n",
       "  </tbody>\n",
       "</table>\n",
       "</div>"
      ],
      "text/plain": [
       "     VoxCeleb1_ID        VGGFace1_ID Gender  Nationality  Set\n",
       "653       id10654   Kodi_Smit-McPhee      m    Australia  dev\n",
       "361       id10362  Harry_Connick_Jr.      m          USA  dev\n",
       "1129      id11130       Suraj_Sharma      m        India  dev\n",
       "966       id10967   Rene_Auberjonois      m  Switzerland  dev\n",
       "38        id10039        Alison_Pill      f       Canada  dev\n",
       "698       id10699      Lisa_Whelchel      f          USA  dev\n",
       "650       id10651     Kimberly_Elise      f          USA  dev\n",
       "102       id10103     Brenda_Blethyn      f           UK  dev\n",
       "1150      id11151      Taylor_Kitsch      m       Canada  dev\n",
       "482       id10483      Jeremy_Irvine      m           UK  dev"
      ]
     },
     "execution_count": 1,
     "metadata": {},
     "output_type": "execute_result"
    }
   ],
   "source": [
    "import pandas as pd\n",
    "import altair as alt\n",
    "# Read voxceleb list:\n",
    "#alt.renderers.enable('notebook')\n",
    "vc_df = pd.read_csv('../data/raw/vox1_meta.txt',sep = '\\t',skiprows=0)\n",
    "vc_df.columns = [c.replace(' ','_') for c in vc_df.columns]\n",
    "print(vc_df.shape)\n",
    "vc_df.sample(10)"
   ]
  },
  {
   "cell_type": "code",
   "execution_count": 15,
   "metadata": {},
   "outputs": [
    {
     "data": {
      "image/png": "[encoded data removed]",
      "text/plain": [
       "<VegaLite 2 object>\n",
       "\n",
       "If you see this message, it means the renderer has not been properly enabled\n",
       "for the frontend that you are using. For more information, see\n",
       "https://altair-viz.github.io/user_guide/troubleshooting.html\n"
      ]
     },
     "execution_count": 15,
     "metadata": {},
     "output_type": "execute_result"
    }
   ],
   "source": [
    "ch_nat = alt.Chart(vc_df).mark_bar().encode(\n",
    "x='Nationality:N',\n",
    "y='count()',\n",
    "tooltip=['count()','Nationality'])\n",
    "\n",
    "ch_gen = alt.Chart(vc_df).mark_bar().encode(\n",
    "x='Gender:N',\n",
    "y='count()',\n",
    "tooltip=['count()','Gender'])\n",
    "\n",
    "ch_nat | ch_gen"
   ]
  },
  {
   "cell_type": "code",
   "execution_count": 11,
   "metadata": {},
   "outputs": [
    {
     "data": {
      "text/html": [
       "<div>\n",
       "<style scoped>\n",
       "    .dataframe tbody tr th:only-of-type {\n",
       "        vertical-align: middle;\n",
       "    }\n",
       "\n",
       "    .dataframe tbody tr th {\n",
       "        vertical-align: top;\n",
       "    }\n",
       "\n",
       "    .dataframe thead th {\n",
       "        text-align: right;\n",
       "    }\n",
       "</style>\n",
       "<table border=\"1\" class=\"dataframe\">\n",
       "  <thead>\n",
       "    <tr style=\"text-align: right;\">\n",
       "      <th></th>\n",
       "      <th>VoxCeleb1_ID</th>\n",
       "      <th>VGGFace1_ID</th>\n",
       "      <th>Gender</th>\n",
       "      <th>Nationality</th>\n",
       "      <th>Set</th>\n",
       "    </tr>\n",
       "  </thead>\n",
       "  <tbody>\n",
       "    <tr>\n",
       "      <th>391</th>\n",
       "      <td>id10392</td>\n",
       "      <td>Irina_Shayk</td>\n",
       "      <td>f</td>\n",
       "      <td>Russia</td>\n",
       "      <td>dev</td>\n",
       "    </tr>\n",
       "    <tr>\n",
       "      <th>738</th>\n",
       "      <td>id10739</td>\n",
       "      <td>Maria_Sharapova</td>\n",
       "      <td>f</td>\n",
       "      <td>Russia</td>\n",
       "      <td>dev</td>\n",
       "    </tr>\n",
       "    <tr>\n",
       "      <th>825</th>\n",
       "      <td>id10826</td>\n",
       "      <td>Milla_Jovovich</td>\n",
       "      <td>f</td>\n",
       "      <td>Russia</td>\n",
       "      <td>dev</td>\n",
       "    </tr>\n",
       "    <tr>\n",
       "      <th>891</th>\n",
       "      <td>id10892</td>\n",
       "      <td>Olga_Kurylenko</td>\n",
       "      <td>f</td>\n",
       "      <td>Russia</td>\n",
       "      <td>dev</td>\n",
       "    </tr>\n",
       "  </tbody>\n",
       "</table>\n",
       "</div>"
      ],
      "text/plain": [
       "    VoxCeleb1_ID      VGGFace1_ID Gender Nationality  Set\n",
       "391      id10392      Irina_Shayk      f      Russia  dev\n",
       "738      id10739  Maria_Sharapova      f      Russia  dev\n",
       "825      id10826   Milla_Jovovich      f      Russia  dev\n",
       "891      id10892   Olga_Kurylenko      f      Russia  dev"
      ]
     },
     "execution_count": 11,
     "metadata": {},
     "output_type": "execute_result"
    }
   ],
   "source": [
    "vc_df[vc_df['Nationality'] == 'Russia']"
   ]
  },
  {
   "cell_type": "code",
   "execution_count": null,
   "metadata": {},
   "outputs": [],
   "source": []
  }
 ],
 "metadata": {
  "kernelspec": {
   "display_name": "Python 3",
   "language": "python",
   "name": "python3"
  },
  "language_info": {
   "codemirror_mode": {
    "name": "ipython",
    "version": 3
   },
   "file_extension": ".py",
   "mimetype": "text/x-python",
   "name": "python",
   "nbconvert_exporter": "python",
   "pygments_lexer": "ipython3",
   "version": "3.6.7"
  }
 },
 "nbformat": 4,
 "nbformat_minor": 2
}
