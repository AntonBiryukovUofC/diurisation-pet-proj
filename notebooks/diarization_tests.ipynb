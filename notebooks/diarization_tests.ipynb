{
 "cells": [
  {
   "cell_type": "markdown",
   "metadata": {},
   "source": [
    "# Set pyannote constants for an easy life"
   ]
  },
  {
   "cell_type": "code",
   "execution_count": 1,
   "metadata": {},
   "outputs": [],
   "source": [
    "# speech activity detection model trained on AMI training set\n",
    "SAD_MODEL = ('tutorials/models/speech_activity_detection/train/'\n",
    "             'AMI.SpeakerDiarization.MixHeadset.train/weights/0280.pt')\n",
    "# speaker change detection model trained on AMI training set\n",
    "SCD_MODEL = ('tutorials/models/speaker_change_detection/train/'\n",
    "             'AMI.SpeakerDiarization.MixHeadset.train/weights/0870.pt')\n",
    "# speaker embedding model trained on VoxCeleb1\n",
    "EMB_MODEL = ('tutorials/models/speaker_embedding/train/'               \n",
    "             'VoxCeleb.SpeakerVerification.VoxCeleb1.train/weights/2000.pt')"
   ]
  },
  {
   "cell_type": "code",
   "execution_count": 2,
   "metadata": {},
   "outputs": [],
   "source": [
    "# one can use their own file like this...\n",
    "test_file = {'uri': 'filename', 'audio': '../data/raw/z-c-feisty.wav'}"
   ]
  },
  {
   "cell_type": "markdown",
   "metadata": {},
   "source": [
    "# Initialize SAD & SCD sequence labeling models"
   ]
  },
  {
   "cell_type": "code",
   "execution_count": 3,
   "metadata": {},
   "outputs": [
    {
     "ename": "ModuleNotFoundError",
     "evalue": "No module named 'yaafelib'",
     "output_type": "error",
     "traceback": [
      "\u001b[1;31m---------------------------------------------------------------------------\u001b[0m",
      "\u001b[1;31mModuleNotFoundError\u001b[0m                       Traceback (most recent call last)",
      "\u001b[1;32m<ipython-input-3-4ba5ed07f887>\u001b[0m in \u001b[0;36m<module>\u001b[1;34m\u001b[0m\n\u001b[1;32m----> 1\u001b[1;33m \u001b[1;32mfrom\u001b[0m \u001b[0mpyannote\u001b[0m\u001b[1;33m.\u001b[0m\u001b[0maudio\u001b[0m\u001b[1;33m.\u001b[0m\u001b[0mlabeling\u001b[0m\u001b[1;33m.\u001b[0m\u001b[0mextraction\u001b[0m \u001b[1;32mimport\u001b[0m \u001b[0mSequenceLabeling\u001b[0m\u001b[1;33m\u001b[0m\u001b[1;33m\u001b[0m\u001b[0m\n\u001b[0m\u001b[0;32m      2\u001b[0m \u001b[0msad\u001b[0m \u001b[1;33m=\u001b[0m \u001b[0mSequenceLabeling\u001b[0m\u001b[1;33m(\u001b[0m\u001b[0mmodel\u001b[0m\u001b[1;33m=\u001b[0m\u001b[0mSAD_MODEL\u001b[0m\u001b[1;33m)\u001b[0m\u001b[1;33m\u001b[0m\u001b[1;33m\u001b[0m\u001b[0m\n\u001b[0;32m      3\u001b[0m \u001b[0mscd\u001b[0m \u001b[1;33m=\u001b[0m \u001b[0mSequenceLabeling\u001b[0m\u001b[1;33m(\u001b[0m\u001b[0mmodel\u001b[0m\u001b[1;33m=\u001b[0m\u001b[0mSCD_MODEL\u001b[0m\u001b[1;33m)\u001b[0m\u001b[1;33m\u001b[0m\u001b[1;33m\u001b[0m\u001b[0m\n",
      "\u001b[1;32m~\\AppData\\Local\\Continuum\\anaconda3\\envs\\pyannote\\lib\\site-packages\\pyannote\\audio\\labeling\\extraction.py\u001b[0m in \u001b[0;36m<module>\u001b[1;34m\u001b[0m\n\u001b[0;32m     36\u001b[0m \u001b[1;32mfrom\u001b[0m \u001b[0mpyannote\u001b[0m\u001b[1;33m.\u001b[0m\u001b[0mgenerators\u001b[0m\u001b[1;33m.\u001b[0m\u001b[0mfragment\u001b[0m \u001b[1;32mimport\u001b[0m \u001b[0mSlidingSegments\u001b[0m\u001b[1;33m\u001b[0m\u001b[1;33m\u001b[0m\u001b[0m\n\u001b[0;32m     37\u001b[0m \u001b[1;32mfrom\u001b[0m \u001b[0mpyannote\u001b[0m\u001b[1;33m.\u001b[0m\u001b[0mdatabase\u001b[0m \u001b[1;32mimport\u001b[0m \u001b[0mget_unique_identifier\u001b[0m\u001b[1;33m\u001b[0m\u001b[1;33m\u001b[0m\u001b[0m\n\u001b[1;32m---> 38\u001b[1;33m \u001b[1;32mfrom\u001b[0m \u001b[0mpyannote\u001b[0m\u001b[1;33m.\u001b[0m\u001b[0maudio\u001b[0m\u001b[1;33m.\u001b[0m\u001b[0mfeatures\u001b[0m \u001b[1;32mimport\u001b[0m \u001b[0mPrecomputed\u001b[0m\u001b[1;33m\u001b[0m\u001b[1;33m\u001b[0m\u001b[0m\n\u001b[0m\u001b[0;32m     39\u001b[0m \u001b[1;33m\u001b[0m\u001b[0m\n\u001b[0;32m     40\u001b[0m \u001b[1;33m\u001b[0m\u001b[0m\n",
      "\u001b[1;32m~\\AppData\\Local\\Continuum\\anaconda3\\envs\\pyannote\\lib\\site-packages\\pyannote\\audio\\features\\__init__.py\u001b[0m in \u001b[0;36m<module>\u001b[1;34m\u001b[0m\n\u001b[0;32m     31\u001b[0m \u001b[1;33m\u001b[0m\u001b[0m\n\u001b[0;32m     32\u001b[0m \u001b[1;33m\u001b[0m\u001b[0m\n\u001b[1;32m---> 33\u001b[1;33m \u001b[1;32mfrom\u001b[0m \u001b[1;33m.\u001b[0m\u001b[0mwith_yaafe\u001b[0m \u001b[1;32mimport\u001b[0m \u001b[0mYaafeCompound\u001b[0m\u001b[1;33m,\u001b[0m \u001b[0mYaafeZCR\u001b[0m\u001b[1;33m,\u001b[0m \u001b[0mYaafeMFCC\u001b[0m\u001b[1;33m\u001b[0m\u001b[1;33m\u001b[0m\u001b[0m\n\u001b[0m\u001b[0;32m     34\u001b[0m \u001b[1;32mfrom\u001b[0m \u001b[1;33m.\u001b[0m\u001b[0mwith_librosa\u001b[0m \u001b[1;32mimport\u001b[0m \u001b[0mLibrosaMFCC\u001b[0m\u001b[1;33m,\u001b[0m \u001b[0mLibrosaRMSE\u001b[0m\u001b[1;33m,\u001b[0m \u001b[0mLibrosaSpectrogram\u001b[0m\u001b[1;33m,\u001b[0m \u001b[0mLibrosaMelSpectrogram\u001b[0m\u001b[1;33m\u001b[0m\u001b[1;33m\u001b[0m\u001b[0m\n\u001b[0;32m     35\u001b[0m \u001b[1;32mfrom\u001b[0m \u001b[1;33m.\u001b[0m\u001b[0mwith_python_speech_features\u001b[0m \u001b[1;32mimport\u001b[0m \u001b[0mPySpeechFeaturesMFCC\u001b[0m\u001b[1;33m\u001b[0m\u001b[1;33m\u001b[0m\u001b[0m\n",
      "\u001b[1;32m~\\AppData\\Local\\Continuum\\anaconda3\\envs\\pyannote\\lib\\site-packages\\pyannote\\audio\\features\\with_yaafe.py\u001b[0m in \u001b[0;36m<module>\u001b[1;34m\u001b[0m\n\u001b[0;32m     32\u001b[0m \"\"\"\n\u001b[0;32m     33\u001b[0m \u001b[1;33m\u001b[0m\u001b[0m\n\u001b[1;32m---> 34\u001b[1;33m \u001b[1;32mimport\u001b[0m \u001b[0myaafelib\u001b[0m\u001b[1;33m\u001b[0m\u001b[1;33m\u001b[0m\u001b[0m\n\u001b[0m\u001b[0;32m     35\u001b[0m \u001b[1;32mimport\u001b[0m \u001b[0mwarnings\u001b[0m\u001b[1;33m\u001b[0m\u001b[1;33m\u001b[0m\u001b[0m\n\u001b[0;32m     36\u001b[0m \u001b[1;32mimport\u001b[0m \u001b[0mnumpy\u001b[0m \u001b[1;32mas\u001b[0m \u001b[0mnp\u001b[0m\u001b[1;33m\u001b[0m\u001b[1;33m\u001b[0m\u001b[0m\n",
      "\u001b[1;31mModuleNotFoundError\u001b[0m: No module named 'yaafelib'"
     ]
    }
   ],
   "source": [
    "from pyannote.audio.labeling.extraction import SequenceLabeling\n",
    "sad = SequenceLabeling(model=SAD_MODEL)\n",
    "scd = SequenceLabeling(model=SCD_MODEL)"
   ]
  },
  {
   "cell_type": "markdown",
   "metadata": {},
   "source": [
    "# Speech activity detection\n",
    "Obtain raw SAD scores (as `pyannote.core.SlidingWindowFeature` instance)"
   ]
  },
  {
   "cell_type": "code",
   "execution_count": null,
   "metadata": {},
   "outputs": [],
   "source": [
    "sad_scores = sad(test_file)\n",
    "# binarize raw SAD scores (as `pyannote.core.Timeline` instance)\n",
    "# NOTE: both onset/offset values were tuned on AMI dataset.\n",
    "# you might need to use different values for better results.\n",
    "from pyannote.audio.signal import Binarize\n",
    "binarize = Binarize(offset=0.94, onset=0.70, log_scale=True)\n",
    "speech = binarize.apply(sad_scores, dimension=1)\n",
    "# iterate over speech segments (as `pyannote.core.Segment` instances)\n",
    "for segment in speech:\n",
    "    print(segment.start, segment.end)"
   ]
  },
  {
   "cell_type": "markdown",
   "metadata": {},
   "source": [
    "# Speaker change detection"
   ]
  },
  {
   "cell_type": "code",
   "execution_count": 4,
   "metadata": {},
   "outputs": [
    {
     "ename": "NameError",
     "evalue": "name 'scd' is not defined",
     "output_type": "error",
     "traceback": [
      "\u001b[1;31m---------------------------------------------------------------------------\u001b[0m",
      "\u001b[1;31mNameError\u001b[0m                                 Traceback (most recent call last)",
      "\u001b[1;32m<ipython-input-4-9abb977cf679>\u001b[0m in \u001b[0;36m<module>\u001b[1;34m\u001b[0m\n\u001b[0;32m      1\u001b[0m \u001b[1;31m# obtain raw SCD scores (as `pyannote.core.SlidingWindowFeature` instance)\u001b[0m\u001b[1;33m\u001b[0m\u001b[1;33m\u001b[0m\u001b[1;33m\u001b[0m\u001b[0m\n\u001b[1;32m----> 2\u001b[1;33m \u001b[0mscd_scores\u001b[0m \u001b[1;33m=\u001b[0m \u001b[0mscd\u001b[0m\u001b[1;33m(\u001b[0m\u001b[0mtest_file\u001b[0m\u001b[1;33m)\u001b[0m\u001b[1;33m\u001b[0m\u001b[1;33m\u001b[0m\u001b[0m\n\u001b[0m\u001b[0;32m      3\u001b[0m \u001b[1;31m# detect peaks and return speaker homogeneous segments\u001b[0m\u001b[1;33m\u001b[0m\u001b[1;33m\u001b[0m\u001b[1;33m\u001b[0m\u001b[0m\n\u001b[0;32m      4\u001b[0m \u001b[1;31m# (as `pyannote.core.Annotation` instance)\u001b[0m\u001b[1;33m\u001b[0m\u001b[1;33m\u001b[0m\u001b[1;33m\u001b[0m\u001b[0m\n\u001b[0;32m      5\u001b[0m \u001b[1;31m# NOTE: both alpha/min_duration values were tuned on AMI dataset.\u001b[0m\u001b[1;33m\u001b[0m\u001b[1;33m\u001b[0m\u001b[1;33m\u001b[0m\u001b[0m\n",
      "\u001b[1;31mNameError\u001b[0m: name 'scd' is not defined"
     ]
    }
   ],
   "source": [
    "# obtain raw SCD scores (as `pyannote.core.SlidingWindowFeature` instance)\n",
    "scd_scores = scd(test_file)\n",
    "# detect peaks and return speaker homogeneous segments \n",
    "# (as `pyannote.core.Annotation` instance)\n",
    "# NOTE: both alpha/min_duration values were tuned on AMI dataset.\n",
    "# you might need to use different values for better results.\n",
    "from pyannote.audio.signal import Peak\n",
    "peak = Peak(alpha=0.08, min_duration=0.40, log_scale=True)\n",
    "partition = peak.apply(scd_scores, dimension=1)\n",
    "for segment in partition:\n",
    "    print(segment.start, segment.end)"
   ]
  },
  {
   "cell_type": "markdown",
   "metadata": {},
   "source": [
    "# Final segmentation ( an overlay of SAD and SCD)"
   ]
  },
  {
   "cell_type": "code",
   "execution_count": null,
   "metadata": {},
   "outputs": [],
   "source": [
    "# speech turns are simply the intersection of SAD and SCD\n",
    "speech_turns = partition.crop(speech)"
   ]
  },
  {
   "cell_type": "markdown",
   "metadata": {},
   "source": [
    "Visualize the results"
   ]
  },
  {
   "cell_type": "code",
   "execution_count": null,
   "metadata": {},
   "outputs": [],
   "source": [
    "# let's visualize SAD and SCD results using pyannote.core visualization API\n",
    "from matplotlib import pyplot as plt\n",
    "from pyannote.core import Segment, notebook\n",
    "\n",
    "# only plot one minute (between t=120s and t=180s)\n",
    "notebook.crop = Segment(120, 180)\n",
    "\n",
    "# helper function to make visualization prettier\n",
    "from pyannote.core import SlidingWindowFeature\n",
    "plot_ready = lambda scores: SlidingWindowFeature(np.exp(scores.data[:, 1:]), scores.sliding_window)\n",
    "\n",
    "# create a figure with 6 rows with matplotlib\n",
    "nrows = 6\n",
    "fig, ax = plt.subplots(nrows=nrows, ncols=1)\n",
    "fig.set_figwidth(20)\n",
    "fig.set_figheight(nrows * 2)\n",
    "\n",
    "# 1st row: reference annotation\n",
    "notebook.plot_annotation(test_file['annotation'], ax=ax[0])\n",
    "ax[0].text(notebook.crop.start + 0.5, 0.1, 'reference', fontsize=14)\n",
    "\n",
    "# 2nd row: SAD raw scores\n",
    "notebook.plot_feature(plot_ready(sad_scores), ax=ax[1])\n",
    "ax[1].text(notebook.crop.start + 0.5, 0.6, 'SAD\\nscores', fontsize=14)\n",
    "ax[1].set_ylim(-0.1, 1.1)\n",
    "\n",
    "# 3rd row: SAD result\n",
    "notebook.plot_timeline(speech, ax=ax[2])\n",
    "ax[2].text(notebook.crop.start + 0.5, 0.1, 'SAD', fontsize=14)\n",
    "\n",
    "# 4th row: SCD raw scores\n",
    "notebook.plot_feature(plot_ready(scd_scores), ax=ax[3])\n",
    "ax[3].text(notebook.crop.start + 0.5, 0.3, 'SCD\\nscores', fontsize=14)\n",
    "ax[3].set_ylim(-0.1, 0.6)\n",
    "\n",
    "# 5th row: SCD result\n",
    "notebook.plot_timeline(partition, ax=ax[4])\n",
    "ax[4].text(notebook.crop.start + 0.5, 0.1, 'SCD', fontsize=14)\n",
    "\n",
    "# 6th row: combination of SAD and SCD\n",
    "notebook.plot_timeline(speech_turns, ax=ax[5])\n",
    "ax[5].text(notebook.crop.start + 0.5, 0.1, 'speech turns', fontsize=14)"
   ]
  }
 ],
 "metadata": {
  "kernelspec": {
   "display_name": "Python 3",
   "language": "python",
   "name": "python3"
  },
  "language_info": {
   "codemirror_mode": {
    "name": "ipython",
    "version": 3
   },
   "file_extension": ".py",
   "mimetype": "text/x-python",
   "name": "python",
   "nbconvert_exporter": "python",
   "pygments_lexer": "ipython3",
   "version": "3.6.7"
  }
 },
 "nbformat": 4,
 "nbformat_minor": 2
}
